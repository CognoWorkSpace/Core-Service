{
 "cells": [
  {
   "cell_type": "markdown",
   "id": "f0316f70-a11e-40dc-9de0-a5c336398d25",
   "metadata": {},
   "source": [
    "## Start Milvus by Docker"
   ]
  },
  {
   "cell_type": "code",
   "execution_count": 7,
   "id": "2ef1a6a2-78a9-4f3a-8af4-2abe7e01dc8f",
   "metadata": {},
   "outputs": [
    {
     "name": "stdout",
     "output_type": "stream",
     "text": [
      "[Errno 2] No such file or directory: './milvusDocker'\n",
      "/Users/xinkaiwang/Downloads/Cogno/Core-Service/databaseMod/milvusDocker\n",
      "\u001B[1A\u001B[1B\u001B[0G\u001B[?25l[+] Running 0/0\n",
      " ⠋ Network milvus  Creating                                                \u001B[34m0.1s \u001B[0m\n",
      "\u001B[?25h\u001B[1A\u001B[1A\u001B[0G\u001B[?25l\u001B[34m[+] Running 1/1\u001B[0m\n",
      " \u001B[32m✔\u001B[0m Network milvus          \u001B[32mCreated\u001B[0m                                         \u001B[34m0.1s \u001B[0m\n",
      " ⠋ Container milvus-minio  Creating                                        \u001B[34m0.0s \u001B[0m\n",
      " ⠋ Container milvus-etcd   Creating                                        \u001B[34m0.0s \u001B[0m\n",
      "\u001B[?25h\u001B[1A\u001B[1A\u001B[1A\u001B[1A\u001B[0G\u001B[?25l[+] Running 1/3\n",
      " \u001B[32m✔\u001B[0m Network milvus          \u001B[32mCreated\u001B[0m                                         \u001B[34m0.1s \u001B[0m\n",
      " ⠙ Container milvus-minio  Creating                                        \u001B[34m0.1s \u001B[0m\n",
      " ⠙ Container milvus-etcd   Creating                                        \u001B[34m0.1s \u001B[0m\n",
      "\u001B[?25h\u001B[1A\u001B[1A\u001B[1A\u001B[1A\u001B[0G\u001B[?25l\u001B[34m[+] Running 3/3\u001B[0m\n",
      " \u001B[32m✔\u001B[0m Network milvus               \u001B[32mCreated\u001B[0m                                    \u001B[34m0.1s \u001B[0m\n",
      " \u001B[32m✔\u001B[0m Container milvus-minio       \u001B[32mCreated\u001B[0m                                    \u001B[34m0.2s \u001B[0m\n",
      " \u001B[32m✔\u001B[0m Container milvus-etcd        \u001B[32mCreated\u001B[0m                                    \u001B[34m0.2s \u001B[0m\n",
      " ⠋ Container milvus-standalone  Creating                                   \u001B[34m0.0s \u001B[0m\n",
      "\u001B[?25h\u001B[1A\u001B[1A\u001B[1A\u001B[1A\u001B[1A\u001B[0G\u001B[?25l[+] Running 3/4\n",
      " \u001B[32m✔\u001B[0m Network milvus               \u001B[32mCreated\u001B[0m                                    \u001B[34m0.1s \u001B[0m\n",
      " \u001B[32m✔\u001B[0m Container milvus-minio       \u001B[32mCreated\u001B[0m                                    \u001B[34m0.2s \u001B[0m\n",
      " \u001B[32m✔\u001B[0m Container milvus-etcd        \u001B[32mCreated\u001B[0m                                    \u001B[34m0.2s \u001B[0m\n",
      " ⠙ Container milvus-standalone  Creating                                   \u001B[34m0.1s \u001B[0m\n",
      "\u001B[?25h\u001B[1A\u001B[1A\u001B[1A\u001B[1A\u001B[1A\u001B[0G\u001B[?25l[+] Running 2/4\n",
      " \u001B[32m✔\u001B[0m Network milvus               \u001B[32mCreated\u001B[0m                                    \u001B[34m0.1s \u001B[0m\n",
      " ⠿ Container milvus-minio       Starting                                   \u001B[34m0.4s \u001B[0m\n",
      " ⠿ Container milvus-etcd        Starting                                   \u001B[34m0.4s \u001B[0m\n",
      " \u001B[32m✔\u001B[0m Container milvus-standalone  \u001B[32mCreated\u001B[0m                                    \u001B[34m0.1s \u001B[0m\n",
      "\u001B[?25h\u001B[1A\u001B[1A\u001B[1A\u001B[1A\u001B[1A\u001B[0G\u001B[?25l[+] Running 2/4\n",
      " \u001B[32m✔\u001B[0m Network milvus               \u001B[32mCreated\u001B[0m                                    \u001B[34m0.1s \u001B[0m\n",
      " ⠿ Container milvus-minio       Starting                                   \u001B[34m0.5s \u001B[0m\n",
      " ⠿ Container milvus-etcd        Starting                                   \u001B[34m0.5s \u001B[0m\n",
      " \u001B[32m✔\u001B[0m Container milvus-standalone  \u001B[32mCreated\u001B[0m                                    \u001B[34m0.1s \u001B[0m\n",
      "\u001B[?25h\u001B[1A\u001B[1A\u001B[1A\u001B[1A\u001B[1A\u001B[0G\u001B[?25l[+] Running 2/4\n",
      " \u001B[32m✔\u001B[0m Network milvus               \u001B[32mCreated\u001B[0m                                    \u001B[34m0.1s \u001B[0m\n",
      " ⠿ Container milvus-minio       Starting                                   \u001B[34m0.6s \u001B[0m\n",
      " ⠿ Container milvus-etcd        Starting                                   \u001B[34m0.6s \u001B[0m\n",
      " \u001B[32m✔\u001B[0m Container milvus-standalone  \u001B[32mCreated\u001B[0m                                    \u001B[34m0.1s \u001B[0m\n",
      "\u001B[?25h\u001B[1A\u001B[1A\u001B[1A\u001B[1A\u001B[1A\u001B[0G\u001B[?25l[+] Running 2/4\n",
      " \u001B[32m✔\u001B[0m Network milvus               \u001B[32mCreated\u001B[0m                                    \u001B[34m0.1s \u001B[0m\n",
      " ⠿ Container milvus-minio       Starting                                   \u001B[34m0.7s \u001B[0m\n",
      " ⠿ Container milvus-etcd        Starting                                   \u001B[34m0.7s \u001B[0m\n",
      " \u001B[32m✔\u001B[0m Container milvus-standalone  \u001B[32mCreated\u001B[0m                                    \u001B[34m0.1s \u001B[0m\n",
      "\u001B[?25h\u001B[1A\u001B[1A\u001B[1A\u001B[1A\u001B[1A\u001B[0G\u001B[?25l[+] Running 2/4\n",
      " \u001B[32m✔\u001B[0m Network milvus               \u001B[32mCreated\u001B[0m                                    \u001B[34m0.1s \u001B[0m\n",
      " ⠿ Container milvus-minio       Starting                                   \u001B[34m0.8s \u001B[0m\n",
      " ⠿ Container milvus-etcd        Starting                                   \u001B[34m0.8s \u001B[0m\n",
      " \u001B[32m✔\u001B[0m Container milvus-standalone  \u001B[32mCreated\u001B[0m                                    \u001B[34m0.1s \u001B[0m\n",
      "\u001B[?25h\u001B[1A\u001B[1A\u001B[1A\u001B[1A\u001B[1A\u001B[0G\u001B[?25l[+] Running 2/4\n",
      " \u001B[32m✔\u001B[0m Network milvus               \u001B[32mCreated\u001B[0m                                    \u001B[34m0.1s \u001B[0m\n",
      " ⠿ Container milvus-minio       Starting                                   \u001B[34m0.9s \u001B[0m\n",
      " ⠿ Container milvus-etcd        Starting                                   \u001B[34m0.9s \u001B[0m\n",
      " \u001B[32m✔\u001B[0m Container milvus-standalone  \u001B[32mCreated\u001B[0m                                    \u001B[34m0.1s \u001B[0m\n",
      "\u001B[?25h\u001B[1A\u001B[1A\u001B[1A\u001B[1A\u001B[1A\u001B[0G\u001B[?25l[+] Running 2/4\n",
      " \u001B[32m✔\u001B[0m Network milvus               \u001B[32mCreated\u001B[0m                                    \u001B[34m0.1s \u001B[0m\n",
      " ⠿ Container milvus-minio       Starting                                   \u001B[34m1.0s \u001B[0m\n",
      " ⠿ Container milvus-etcd        Starting                                   \u001B[34m1.0s \u001B[0m\n",
      " \u001B[32m✔\u001B[0m Container milvus-standalone  \u001B[32mCreated\u001B[0m                                    \u001B[34m0.1s \u001B[0m\n",
      "\u001B[?25h\u001B[1A\u001B[1A\u001B[1A\u001B[1A\u001B[1A\u001B[0G\u001B[?25l[+] Running 3/4\n",
      " \u001B[32m✔\u001B[0m Network milvus               \u001B[32mCreated\u001B[0m                                    \u001B[34m0.1s \u001B[0m\n",
      " \u001B[32m✔\u001B[0m Container milvus-minio       \u001B[32mStarted\u001B[0m                                    \u001B[34m1.1s \u001B[0m\n",
      " ⠿ Container milvus-etcd        Starting                                   \u001B[34m1.1s \u001B[0m\n",
      " \u001B[32m✔\u001B[0m Container milvus-standalone  \u001B[32mCreated\u001B[0m                                    \u001B[34m0.1s \u001B[0m\n",
      "\u001B[?25h\u001B[1A\u001B[1A\u001B[1A\u001B[1A\u001B[1A\u001B[0G\u001B[?25l[+] Running 3/4\n",
      " \u001B[32m✔\u001B[0m Network milvus               \u001B[32mCreated\u001B[0m                                    \u001B[34m0.1s \u001B[0m\n",
      " \u001B[32m✔\u001B[0m Container milvus-minio       \u001B[32mStarted\u001B[0m                                    \u001B[34m1.1s \u001B[0m\n",
      " \u001B[32m✔\u001B[0m Container milvus-etcd        \u001B[32mStarted\u001B[0m                                    \u001B[34m1.1s \u001B[0m\n",
      " ⠿ Container milvus-standalone  Starting                                   \u001B[34m1.0s \u001B[0m\n",
      "\u001B[?25h\u001B[1A\u001B[1A\u001B[1A\u001B[1A\u001B[1A\u001B[0G\u001B[?25l[+] Running 3/4\n",
      " \u001B[32m✔\u001B[0m Network milvus               \u001B[32mCreated\u001B[0m                                    \u001B[34m0.1s \u001B[0m\n",
      " \u001B[32m✔\u001B[0m Container milvus-minio       \u001B[32mStarted\u001B[0m                                    \u001B[34m1.1s \u001B[0m\n",
      " \u001B[32m✔\u001B[0m Container milvus-etcd        \u001B[32mStarted\u001B[0m                                    \u001B[34m1.1s \u001B[0m\n",
      " ⠿ Container milvus-standalone  Starting                                   \u001B[34m1.1s \u001B[0m\n",
      "\u001B[?25h\u001B[1A\u001B[1A\u001B[1A\u001B[1A\u001B[1A\u001B[0G\u001B[?25l[+] Running 3/4\n",
      " \u001B[32m✔\u001B[0m Network milvus               \u001B[32mCreated\u001B[0m                                    \u001B[34m0.1s \u001B[0m\n",
      " \u001B[32m✔\u001B[0m Container milvus-minio       \u001B[32mStarted\u001B[0m                                    \u001B[34m1.1s \u001B[0m\n",
      " \u001B[32m✔\u001B[0m Container milvus-etcd        \u001B[32mStarted\u001B[0m                                    \u001B[34m1.1s \u001B[0m\n",
      " ⠿ Container milvus-standalone  Starting                                   \u001B[34m1.2s \u001B[0m\n",
      "\u001B[?25h\u001B[1A\u001B[1A\u001B[1A\u001B[1A\u001B[1A\u001B[0G\u001B[?25l[+] Running 3/4\n",
      " \u001B[32m✔\u001B[0m Network milvus               \u001B[32mCreated\u001B[0m                                    \u001B[34m0.1s \u001B[0m\n",
      " \u001B[32m✔\u001B[0m Container milvus-minio       \u001B[32mStarted\u001B[0m                                    \u001B[34m1.1s \u001B[0m\n",
      " \u001B[32m✔\u001B[0m Container milvus-etcd        \u001B[32mStarted\u001B[0m                                    \u001B[34m1.1s \u001B[0m\n",
      " ⠿ Container milvus-standalone  Starting                                   \u001B[34m1.3s \u001B[0m\n",
      "\u001B[?25h\u001B[1A\u001B[1A\u001B[1A\u001B[1A\u001B[1A\u001B[0G\u001B[?25l[+] Running 3/4\n",
      " \u001B[32m✔\u001B[0m Network milvus               \u001B[32mCreated\u001B[0m                                    \u001B[34m0.1s \u001B[0m\n",
      " \u001B[32m✔\u001B[0m Container milvus-minio       \u001B[32mStarted\u001B[0m                                    \u001B[34m1.1s \u001B[0m\n",
      " \u001B[32m✔\u001B[0m Container milvus-etcd        \u001B[32mStarted\u001B[0m                                    \u001B[34m1.1s \u001B[0m\n",
      " ⠿ Container milvus-standalone  Starting                                   \u001B[34m1.4s \u001B[0m\n",
      "\u001B[?25h\u001B[1A\u001B[1A\u001B[1A\u001B[1A\u001B[1A\u001B[0G\u001B[?25l[+] Running 3/4\n",
      " \u001B[32m✔\u001B[0m Network milvus               \u001B[32mCreated\u001B[0m                                    \u001B[34m0.1s \u001B[0m\n",
      " \u001B[32m✔\u001B[0m Container milvus-minio       \u001B[32mStarted\u001B[0m                                    \u001B[34m1.1s \u001B[0m\n",
      " \u001B[32m✔\u001B[0m Container milvus-etcd        \u001B[32mStarted\u001B[0m                                    \u001B[34m1.1s \u001B[0m\n",
      " ⠿ Container milvus-standalone  Starting                                   \u001B[34m1.5s \u001B[0m\n",
      "\u001B[?25h\u001B[1A\u001B[1A\u001B[1A\u001B[1A\u001B[1A\u001B[0G\u001B[?25l[+] Running 3/4\n",
      " \u001B[32m✔\u001B[0m Network milvus               \u001B[32mCreated\u001B[0m                                    \u001B[34m0.1s \u001B[0m\n",
      " \u001B[32m✔\u001B[0m Container milvus-minio       \u001B[32mStarted\u001B[0m                                    \u001B[34m1.1s \u001B[0m\n",
      " \u001B[32m✔\u001B[0m Container milvus-etcd        \u001B[32mStarted\u001B[0m                                    \u001B[34m1.1s \u001B[0m\n",
      " ⠿ Container milvus-standalone  Starting                                   \u001B[34m1.6s \u001B[0m\n",
      "\u001B[?25h\u001B[1A\u001B[1A\u001B[1A\u001B[1A\u001B[1A\u001B[0G\u001B[?25l\u001B[34m[+] Running 4/4\u001B[0m\n",
      " \u001B[32m✔\u001B[0m Network milvus               \u001B[32mCreated\u001B[0m                                    \u001B[34m0.1s \u001B[0m\n",
      " \u001B[32m✔\u001B[0m Container milvus-minio       \u001B[32mStarted\u001B[0m                                    \u001B[34m1.1s \u001B[0m\n",
      " \u001B[32m✔\u001B[0m Container milvus-etcd        \u001B[32mStarted\u001B[0m                                    \u001B[34m1.1s \u001B[0m\n",
      " \u001B[32m✔\u001B[0m Container milvus-standalone  \u001B[32mStarted\u001B[0m                                    \u001B[34m1.7s \u001B[0m\n",
      "\u001B[?25h"
     ]
    }
   ],
   "source": [
    "%cd ./milvusDocker\n",
    "!docker compose up -d\n",
    "%cd .."
   ]
  },
  {
   "cell_type": "code",
   "execution_count": 8,
   "id": "b7073d9b-83cb-4670-9540-6a3fba8914cd",
   "metadata": {},
   "outputs": [],
   "source": [
    "import pandas as pd\n",
    "from pymilvus import connections, FieldSchema, CollectionSchema, DataType, Collection, utility\n",
    "\n",
    "from milvusDB import MilvusDB"
   ]
  },
  {
   "cell_type": "markdown",
   "id": "99fb33f9-d451-4e46-9410-226b34a696eb",
   "metadata": {},
   "source": [
    "### Use new database by setting param db_name instead of \"default\". It will be created automatically if it does not exist."
   ]
  },
  {
   "cell_type": "code",
   "execution_count": 9,
   "id": "880db5b6-89dd-4dee-afa6-f26d514594bc",
   "metadata": {},
   "outputs": [
    {
     "name": "stdout",
     "output_type": "stream",
     "text": [
      "default\n",
      "product_db\n"
     ]
    }
   ],
   "source": [
    "mvs_db = MilvusDB()\n",
    "print(mvs_db.db_name)\n",
    "\n",
    "mvs_db.db_name = 'product_db'\n",
    "print(mvs_db.db_name)"
   ]
  },
  {
   "cell_type": "code",
   "execution_count": 10,
   "id": "b6b0df59-7dd5-4c27-8b45-9b552b4759e5",
   "metadata": {
    "scrolled": true
   },
   "outputs": [
    {
     "data": {
      "text/plain": [
       "[]"
      ]
     },
     "execution_count": 10,
     "metadata": {},
     "output_type": "execute_result"
    }
   ],
   "source": [
    "# show current collections in used database\n",
    "mvs_db.list_collections()"
   ]
  },
  {
   "cell_type": "markdown",
   "id": "ada3fe7c-b421-4a71-961f-03a12c73d65c",
   "metadata": {},
   "source": [
    "### Read product parameters data, create a new collection named \"product_stats\" and insert data into collection"
   ]
  },
  {
   "cell_type": "code",
   "execution_count": 13,
   "id": "f1b266e9-fbd2-4e0b-b3f4-b7489aec4108",
   "metadata": {},
   "outputs": [
    {
     "name": "stderr",
     "output_type": "stream",
     "text": [
      "alloc_timestamp unimplemented, ignore it\n"
     ]
    },
    {
     "name": "stdout",
     "output_type": "stream",
     "text": [
      "Insert dataframe into collection product_stats successfully\n"
     ]
    }
   ],
   "source": [
    "df = mvs_db.read_df_with_vector(\n",
    "    csv_file_path=\"cognoSampleData/embeddedData/product_data.csv\",\n",
    "    embedded_col='product_intro_embed',\n",
    "    index_col=None,\n",
    ")\n",
    "\n",
    "collection_name = \"product_stats\"\n",
    "\n",
    "mvs_db.collection = mvs_db.create_collection_by_df(\n",
    "    df=df,\n",
    "    collection_name=collection_name,\n",
    "    schema_description=\"product related parameters\",\n",
    "    pk_field_name='product_link',\n",
    ")\n",
    "\n",
    "mvs_db.insert_df_into_collection(df=df)"
   ]
  },
  {
   "cell_type": "code",
   "execution_count": 14,
   "id": "426e43ec-94f2-4823-b871-6ba9ce7e9ee0",
   "metadata": {},
   "outputs": [
    {
     "data": {
      "text/plain": [
       "'product_stats'"
      ]
     },
     "execution_count": 14,
     "metadata": {},
     "output_type": "execute_result"
    }
   ],
   "source": [
    "mvs_db.collection.name"
   ]
  },
  {
   "cell_type": "markdown",
   "id": "15fedc9f-cb31-4eea-a54a-986378236fd9",
   "metadata": {},
   "source": [
    "### Search product info by query"
   ]
  },
  {
   "cell_type": "code",
   "execution_count": 15,
   "id": "1d39b9eb-2cba-41aa-89d4-ee816fb1322b",
   "metadata": {},
   "outputs": [
    {
     "name": "stdout",
     "output_type": "stream",
     "text": [
      "id: https://item.jd.com/4225568.html, distance: 0.3221053183078766, entity: {'product_intro': '京鲜生 千禧圣女果 小西红柿 樱桃番茄 约1.5kg 水果礼盒 生鲜水果', 'description': '京鲜生 千禧圣女果 小西红柿 樱桃番茄 约1.5kg 水果礼盒 生鲜水果', 'product_name': '京鲜生 千禧圣女果 小西红柿 樱桃番茄 约1.5kg 水果礼盒 生鲜水果'}\n",
      "id: https://item.jd.com/4746476.html, distance: 0.3494224548339844, entity: {'product_intro': '品牌： 京鲜生\\n商品名称：京鲜生进口红玫瑰苹果\\n商品编号：4746476\\n商品毛重：2.1kg\\n商品产地：新西兰\\n品种：皇后\\n单果果径：75mm-79mm\\n贮存条件：控温\\n国产/进口：进口', 'description': '主体\\n总净含量\\n1.5kg\\n包装清单\\n新西兰进口皇后红玫瑰苹果 特级果12粒礼盒装', 'product_name': ' 京鲜生新西兰皇后红玫瑰苹果 特级12粒礼盒装 单果重130-170g'}\n",
      "id: https://item.jd.com/100064060629.html, distance: 0.35320645570755005, entity: {'product_intro': '品牌： 京鲜生\\n商品名称：京鲜生克瑞森\\n商品编号：100064060629\\n商品毛重：2.36kg\\n商品产地：云南\\n品种：红提\\n原产地：云南\\n贮存条件：冷藏\\n国产/进口：国产', 'description': '主体\\n总净含量\\n2kg\\n包装清单\\n无籽红提 精品2kg原框装', 'product_name': '京鲜生 国产克瑞森 无籽红提 精品2kg原框装 新鲜水果'}\n",
      "id: https://item.jd.com/5383292.html, distance: 0.38638776540756226, entity: {'product_intro': '品牌： 京鲜生\\n商品名称：京鲜生火龙果\\n商品编号：5383292\\n商品毛重：1.65kg\\n商品产地：越南\\n种类：红心果\\n贮存条件：冷藏\\n国产/进口：进口', 'description': '主体\\n总净含量\\n1.32kg\\n包装清单\\n越南红心火龙果 4粒装 x1', 'product_name': '京鲜生越南进口红心火龙果 4个装 中果 单果300g以上 生鲜水果'}\n",
      "id: https://item.jd.com/4459693.html, distance: 0.3945295214653015, entity: {'product_intro': '品牌： 京鲜生\\n商品名称：京鲜生海南小青柠\\n商品编号：4459693\\n商品毛重：0.54kg\\n商品产地：海南\\n单果规格：小果（60g起）\\n种类：青柠檬\\n原产地：海南\\n贮存条件：冷藏\\n国产/进口：国产', 'description': '主体\\n总净含量\\n0.5kg\\n包装清单\\n海南小青柠1斤装', 'product_name': '京鲜生 海南小青柠/青桔 500g 新鲜水果'}\n"
     ]
    }
   ],
   "source": [
    "res = mvs_db.conduct_vector_similar_search(query=\"新鲜红提\", limit=5,\n",
    "                                           output_fields=['product_name', 'product_intro', 'description'])\n",
    "for search_res in res:\n",
    "    for hit in search_res:\n",
    "        print(hit)"
   ]
  },
  {
   "cell_type": "markdown",
   "id": "224e3ef8-7aac-4987-89a3-46fa1163b07b",
   "metadata": {},
   "source": [
    "### create product review collection and insert data into it"
   ]
  },
  {
   "cell_type": "code",
   "execution_count": 16,
   "id": "990c3848-ac5a-4160-bb99-85bdb1465222",
   "metadata": {},
   "outputs": [],
   "source": [
    "product_review_sample_data = \"cognoSampleData/embeddedData/product_review_JDFresh_product13.csv\""
   ]
  },
  {
   "cell_type": "code",
   "execution_count": 17,
   "id": "4a08c6c7-bc97-4a43-a649-1dea60e65943",
   "metadata": {},
   "outputs": [
    {
     "data": {
      "text/html": [
       "<div>\n",
       "<style scoped>\n",
       "    .dataframe tbody tr th:only-of-type {\n",
       "        vertical-align: middle;\n",
       "    }\n",
       "\n",
       "    .dataframe tbody tr th {\n",
       "        vertical-align: top;\n",
       "    }\n",
       "\n",
       "    .dataframe thead th {\n",
       "        text-align: right;\n",
       "    }\n",
       "</style>\n",
       "<table border=\"1\" class=\"dataframe\">\n",
       "  <thead>\n",
       "    <tr style=\"text-align: right;\">\n",
       "      <th></th>\n",
       "      <th>username</th>\n",
       "      <th>rev_score</th>\n",
       "      <th>review</th>\n",
       "      <th>product_link</th>\n",
       "      <th>review_embed</th>\n",
       "    </tr>\n",
       "  </thead>\n",
       "  <tbody>\n",
       "    <tr>\n",
       "      <th>0</th>\n",
       "      <td>u***2</td>\n",
       "      <td>5</td>\n",
       "      <td>沉甸甸的很新鲜，每一个牛油果都是圆润又饱满颜值很高呀，皮薄肉厚而且很香。而且价格还那么便宜 ...</td>\n",
       "      <td>https://item.jd.com/8094996.html</td>\n",
       "      <td>[-0.006060838645441247, -0.013074993039619596,...</td>\n",
       "    </tr>\n",
       "    <tr>\n",
       "      <th>1</th>\n",
       "      <td>刘***6</td>\n",
       "      <td>5</td>\n",
       "      <td>买一送一简直不要太划算，吃轻食，减肥必备牛油果，放冰箱会熟得很慢，要吃前两天拿出来常温放置，...</td>\n",
       "      <td>https://item.jd.com/8094996.html</td>\n",
       "      <td>[-0.007103661014159537, -0.01758937150018359, ...</td>\n",
       "    </tr>\n",
       "    <tr>\n",
       "      <th>2</th>\n",
       "      <td>c***4</td>\n",
       "      <td>5</td>\n",
       "      <td>物流速度那是相当的快，而且买一送一，简直太划算了，家里人都很喜欢吃，而且家里小朋友从小就吃惯...</td>\n",
       "      <td>https://item.jd.com/8094996.html</td>\n",
       "      <td>[-0.010681010629880971, -0.002514252868825385,...</td>\n",
       "    </tr>\n",
       "    <tr>\n",
       "      <th>3</th>\n",
       "      <td>秋***7</td>\n",
       "      <td>5</td>\n",
       "      <td>品质很好，很喜欢这个，而且一盒里面有成熟的有半熟的，商家很贴心，慢慢吃也不担心会熟坏了，包装...</td>\n",
       "      <td>https://item.jd.com/8094996.html</td>\n",
       "      <td>[-0.00576642902418351, -0.02692542419385611, -...</td>\n",
       "    </tr>\n",
       "    <tr>\n",
       "      <th>4</th>\n",
       "      <td>j***5</td>\n",
       "      <td>5</td>\n",
       "      <td>京鲜生秘鲁进口牛油果价格超级便宜，性价比极高，值得推荐，味道尚可，脂肪含量极高，种植过程极为...</td>\n",
       "      <td>https://item.jd.com/8094996.html</td>\n",
       "      <td>[0.006983776256257754, -0.0048000977965308965,...</td>\n",
       "    </tr>\n",
       "  </tbody>\n",
       "</table>\n",
       "</div>"
      ],
      "text/plain": [
       "  username  rev_score                                             review  \\\n",
       "0    u***2          5  沉甸甸的很新鲜，每一个牛油果都是圆润又饱满颜值很高呀，皮薄肉厚而且很香。而且价格还那么便宜 ...   \n",
       "1    刘***6          5  买一送一简直不要太划算，吃轻食，减肥必备牛油果，放冰箱会熟得很慢，要吃前两天拿出来常温放置，...   \n",
       "2    c***4          5  物流速度那是相当的快，而且买一送一，简直太划算了，家里人都很喜欢吃，而且家里小朋友从小就吃惯...   \n",
       "3    秋***7          5  品质很好，很喜欢这个，而且一盒里面有成熟的有半熟的，商家很贴心，慢慢吃也不担心会熟坏了，包装...   \n",
       "4    j***5          5  京鲜生秘鲁进口牛油果价格超级便宜，性价比极高，值得推荐，味道尚可，脂肪含量极高，种植过程极为...   \n",
       "\n",
       "                       product_link  \\\n",
       "0  https://item.jd.com/8094996.html   \n",
       "1  https://item.jd.com/8094996.html   \n",
       "2  https://item.jd.com/8094996.html   \n",
       "3  https://item.jd.com/8094996.html   \n",
       "4  https://item.jd.com/8094996.html   \n",
       "\n",
       "                                        review_embed  \n",
       "0  [-0.006060838645441247, -0.013074993039619596,...  \n",
       "1  [-0.007103661014159537, -0.01758937150018359, ...  \n",
       "2  [-0.010681010629880971, -0.002514252868825385,...  \n",
       "3  [-0.00576642902418351, -0.02692542419385611, -...  \n",
       "4  [0.006983776256257754, -0.0048000977965308965,...  "
      ]
     },
     "execution_count": 17,
     "metadata": {},
     "output_type": "execute_result"
    }
   ],
   "source": [
    "df = mvs_db.read_df_with_vector(product_review_sample_data, 'review_embed')\n",
    "df.head()"
   ]
  },
  {
   "cell_type": "code",
   "execution_count": 18,
   "id": "9159611c-66b9-433d-8e1e-d3363962078b",
   "metadata": {},
   "outputs": [
    {
     "name": "stderr",
     "output_type": "stream",
     "text": [
      "alloc_timestamp unimplemented, ignore it\n"
     ]
    }
   ],
   "source": [
    "new_collection_name = \"product_review\"\n",
    "\n",
    "mvs_db.collection = mvs_db.create_collection_by_df(\n",
    "    df=df,\n",
    "    collection_name=new_collection_name,\n",
    "    schema_description=\"product review data\",\n",
    "    pk_field_name=None,\n",
    ")"
   ]
  },
  {
   "cell_type": "code",
   "execution_count": 19,
   "id": "6e84b22f-8dcf-4f93-9bcb-351d227f3912",
   "metadata": {},
   "outputs": [
    {
     "name": "stdout",
     "output_type": "stream",
     "text": [
      "Insert dataframe into collection product_review successfully\n"
     ]
    }
   ],
   "source": [
    "mvs_db.insert_df_into_collection(df=df)"
   ]
  },
  {
   "cell_type": "markdown",
   "id": "6cad7a85-787d-4c81-af92-4c66b9a256ba",
   "metadata": {},
   "source": [
    "### search similar review by query and get corresponding product parameters data from product_stats collection"
   ]
  },
  {
   "cell_type": "code",
   "execution_count": 23,
   "id": "1869ac88-5aa3-4cf8-b5cd-b309786fe4d8",
   "metadata": {},
   "outputs": [
    {
     "name": "stdout",
     "output_type": "stream",
     "text": [
      "similar product review: \n",
      "id: 443608308898596255, distance: 0.2123182713985443, entity: {'review': '非常好，孩子挺喜欢吃的，也新鲜  ，快没有了，这是最后两个，物流也快 ，第二天就到了，下次有活动还买，孩子吃了挺好的，非常喜欢', 'product_link': 'https://item.jd.com/8094996.html', 'username': '小***哭', 'rev_score': 5}\n",
      "product information: \n",
      "{'product_name': '京鲜生 秘鲁进口牛油果 宝宝果6粒装 单果110g起 生鲜 新鲜水果', 'product_intro': '品牌： 京鲜生\\n商品名称：京鲜生进口牛油果\\n商品编号：8094996\\n商品毛重：0.7kg\\n商品产地：秘鲁\\n国产/进口：进口\\n贮存条件：常温\\n原产地：秘鲁', 'description': '主体\\n总净含量\\n0.66kg\\n包装清单\\n京鲜生 秘鲁进口牛油果 中小果6粒装 单果110g起 生鲜 新鲜水果', 'product_link': 'https://item.jd.com/8094996.html'}\n",
      "\n",
      "\n",
      "similar product review: \n",
      "id: 443608308898596310, distance: 0.2550034523010254, entity: {'review': '早就计划买了趁着活动入手，，娃娃很喜欢，，味道不错，口感很好。。内容丰富，，送人也是可以的。很好很喜欢。用起来非常不错。', 'product_link': 'https://item.jd.com/8094996.html', 'username': 'n***i', 'rev_score': 5}\n",
      "product information: \n",
      "{'description': '主体\\n总净含量\\n0.66kg\\n包装清单\\n京鲜生 秘鲁进口牛油果 中小果6粒装 单果110g起 生鲜 新鲜水果', 'product_link': 'https://item.jd.com/8094996.html', 'product_name': '京鲜生 秘鲁进口牛油果 宝宝果6粒装 单果110g起 生鲜 新鲜水果', 'product_intro': '品牌： 京鲜生\\n商品名称：京鲜生进口牛油果\\n商品编号：8094996\\n商品毛重：0.7kg\\n商品产地：秘鲁\\n国产/进口：进口\\n贮存条件：常温\\n原产地：秘鲁'}\n",
      "\n",
      "\n",
      "similar product review: \n",
      "id: 443608308898596300, distance: 0.25705257058143616, entity: {'review': '买来给家里小宝宝做辅食吃的，推荐大家购买，宝宝非常喜欢吃，下次再来买的，反正非常好吃，京东物流也快，还会送货上门，快来快来快来买。', 'product_link': 'https://item.jd.com/8094996.html', 'username': '美***子', 'rev_score': 5}\n",
      "product information: \n",
      "{'description': '主体\\n总净含量\\n0.66kg\\n包装清单\\n京鲜生 秘鲁进口牛油果 中小果6粒装 单果110g起 生鲜 新鲜水果', 'product_link': 'https://item.jd.com/8094996.html', 'product_name': '京鲜生 秘鲁进口牛油果 宝宝果6粒装 单果110g起 生鲜 新鲜水果', 'product_intro': '品牌： 京鲜生\\n商品名称：京鲜生进口牛油果\\n商品编号：8094996\\n商品毛重：0.7kg\\n商品产地：秘鲁\\n国产/进口：进口\\n贮存条件：常温\\n原产地：秘鲁'}\n",
      "\n",
      "\n",
      "similar product review: \n",
      "id: 443608308898596305, distance: 0.27128732204437256, entity: {'review': '给孩子买的，品质太赞了，比水果店便宜不说，还好很多，秘鲁进口的，刚到有些绿，冰箱放几天就可以吃了，口感细腻，像奶酪??一样香滑，又回购了两盒', 'product_link': 'https://item.jd.com/8094996.html', 'username': 'j***a', 'rev_score': 5}\n",
      "product information: \n",
      "{'product_name': '京鲜生 秘鲁进口牛油果 宝宝果6粒装 单果110g起 生鲜 新鲜水果', 'product_intro': '品牌： 京鲜生\\n商品名称：京鲜生进口牛油果\\n商品编号：8094996\\n商品毛重：0.7kg\\n商品产地：秘鲁\\n国产/进口：进口\\n贮存条件：常温\\n原产地：秘鲁', 'description': '主体\\n总净含量\\n0.66kg\\n包装清单\\n京鲜生 秘鲁进口牛油果 中小果6粒装 单果110g起 生鲜 新鲜水果', 'product_link': 'https://item.jd.com/8094996.html'}\n",
      "\n",
      "\n",
      "similar product review: \n",
      "id: 443608308898596405, distance: 0.27202510833740234, entity: {'review': '个人很喜欢吃牛油果，趁活动买了两盒，孩子居然不吃，来的是青的，跟耐放，自己吃可以放好多天，熟一个吃一个也挺好，多谢优惠政策', 'product_link': 'https://item.jd.com/8094996.html', 'username': '孙***4', 'rev_score': 5}\n",
      "product information: \n",
      "{'product_intro': '品牌： 京鲜生\\n商品名称：京鲜生进口牛油果\\n商品编号：8094996\\n商品毛重：0.7kg\\n商品产地：秘鲁\\n国产/进口：进口\\n贮存条件：常温\\n原产地：秘鲁', 'description': '主体\\n总净含量\\n0.66kg\\n包装清单\\n京鲜生 秘鲁进口牛油果 中小果6粒装 单果110g起 生鲜 新鲜水果', 'product_link': 'https://item.jd.com/8094996.html', 'product_name': '京鲜生 秘鲁进口牛油果 宝宝果6粒装 单果110g起 生鲜 新鲜水果'}\n",
      "\n",
      "\n"
     ]
    }
   ],
   "source": [
    "mvs_db.collection = \"product_review\"\n",
    "review_search_res = mvs_db.conduct_vector_similar_search(query=\"已购，孩子很喜欢\", limit=5,\n",
    "                                                         output_fields=['username', 'rev_score', 'review', 'product_link'])\n",
    "\n",
    "mvs_db.collection = \"product_stats\"\n",
    "for rev_res in review_search_res:\n",
    "    for hit in rev_res:\n",
    "        print(\"similar product review: \")\n",
    "        print(hit)\n",
    "        prod_link = hit.entity.get('product_link')\n",
    "        prod_stat_res = mvs_db.query_search(expr=f'product_link in [\"{prod_link}\"]',\n",
    "                                            output_fields=['product_name', 'product_intro', 'description'])\n",
    "        if not prod_stat_res:\n",
    "            print(f'no match product in collection {mvs_db.collection.name} of database {mvs_db.db_name}')\n",
    "            continue\n",
    "        print(\"product information: \")\n",
    "        print(prod_stat_res[0])\n",
    "        print('\\n')"
   ]
  },
  {
   "cell_type": "markdown",
   "id": "81783828-95f2-4aff-8787-dfabb531a66d",
   "metadata": {},
   "source": [
    "### Shut down Milvus"
   ]
  },
  {
   "cell_type": "code",
   "execution_count": 24,
   "id": "be5c3d5a-8ae3-4896-a3b0-4e0418aabcd9",
   "metadata": {},
   "outputs": [
    {
     "name": "stdout",
     "output_type": "stream",
     "text": [
      "/Users/xinkaiwang/Downloads/Cogno/Core-Service/databaseMod/milvusDocker\n",
      "\u001B[1A\u001B[1B\u001B[0G\u001B[?25l[+] Running 0/0\n",
      " ⠋ Container milvus-standalone  Stopping                                   \u001B[34m0.1s \u001B[0m\n",
      "\u001B[?25h\u001B[1A\u001B[1A\u001B[0G\u001B[?25l[+] Running 0/1\n",
      " ⠙ Container milvus-standalone  Stopping                                   \u001B[34m0.2s \u001B[0m\n",
      "\u001B[?25h\u001B[1A\u001B[1A\u001B[0G\u001B[?25l[+] Running 0/1\n",
      " ⠹ Container milvus-standalone  Stopping                                   \u001B[34m0.3s \u001B[0m\n",
      "\u001B[?25h\u001B[1A\u001B[1A\u001B[0G\u001B[?25l[+] Running 0/1\n",
      " ⠸ Container milvus-standalone  Stopping                                   \u001B[34m0.4s \u001B[0m\n",
      "\u001B[?25h\u001B[1A\u001B[1A\u001B[0G\u001B[?25l[+] Running 0/1\n",
      " ⠼ Container milvus-standalone  Stopping                                   \u001B[34m0.5s \u001B[0m\n",
      "\u001B[?25h\u001B[1A\u001B[1A\u001B[0G\u001B[?25l[+] Running 0/1\n",
      " ⠴ Container milvus-standalone  Stopping                                   \u001B[34m0.6s \u001B[0m\n",
      "\u001B[?25h\u001B[1A\u001B[1A\u001B[0G\u001B[?25l[+] Running 0/1\n",
      " ⠦ Container milvus-standalone  Stopping                                   \u001B[34m0.7s \u001B[0m\n",
      "\u001B[?25h\u001B[1A\u001B[1A\u001B[0G\u001B[?25l[+] Running 0/1\n",
      " ⠧ Container milvus-standalone  Stopping                                   \u001B[34m0.8s \u001B[0m\n",
      "\u001B[?25h\u001B[1A\u001B[1A\u001B[0G\u001B[?25l[+] Running 0/1\n",
      " ⠇ Container milvus-standalone  Stopping                                   \u001B[34m0.9s \u001B[0m\n",
      "\u001B[?25h\u001B[1A\u001B[1A\u001B[0G\u001B[?25l[+] Running 0/1\n",
      " ⠏ Container milvus-standalone  Stopping                                   \u001B[34m1.0s \u001B[0m\n",
      "\u001B[?25h\u001B[1A\u001B[1A\u001B[0G\u001B[?25l[+] Running 0/1\n",
      " ⠋ Container milvus-standalone  Stopping                                   \u001B[34m1.1s \u001B[0m\n",
      "\u001B[?25h\u001B[1A\u001B[1A\u001B[0G\u001B[?25l[+] Running 0/1\n",
      " ⠙ Container milvus-standalone  Stopping                                   \u001B[34m1.2s \u001B[0m\n",
      "\u001B[?25h\u001B[1A\u001B[1A\u001B[0G\u001B[?25l[+] Running 0/1\n",
      " ⠹ Container milvus-standalone  Stopping                                   \u001B[34m1.3s \u001B[0m\n",
      "\u001B[?25h\u001B[1A\u001B[1A\u001B[0G\u001B[?25l[+] Running 0/1\n",
      " ⠸ Container milvus-standalone  Stopping                                   \u001B[34m1.4s \u001B[0m\n",
      "\u001B[?25h\u001B[1A\u001B[1A\u001B[0G\u001B[?25l[+] Running 0/1\n",
      " ⠼ Container milvus-standalone  Stopping                                   \u001B[34m1.5s \u001B[0m\n",
      "\u001B[?25h\u001B[1A\u001B[1A\u001B[0G\u001B[?25l[+] Running 0/1\n",
      " ⠴ Container milvus-standalone  Stopping                                   \u001B[34m1.6s \u001B[0m\n",
      "\u001B[?25h\u001B[1A\u001B[1A\u001B[0G\u001B[?25l[+] Running 0/1\n",
      " ⠦ Container milvus-standalone  Stopping                                   \u001B[34m1.7s \u001B[0m\n",
      "\u001B[?25h\u001B[1A\u001B[1A\u001B[0G\u001B[?25l[+] Running 0/1\n",
      " ⠧ Container milvus-standalone  Stopping                                   \u001B[34m1.8s \u001B[0m\n",
      "\u001B[?25h\u001B[1A\u001B[1A\u001B[0G\u001B[?25l[+] Running 0/1\n",
      " ⠇ Container milvus-standalone  Stopping                                   \u001B[34m1.9s \u001B[0m\n",
      "\u001B[?25h\u001B[1A\u001B[1A\u001B[0G\u001B[?25l[+] Running 0/1\n",
      " ⠏ Container milvus-standalone  Stopping                                   \u001B[34m2.0s \u001B[0m\n",
      "\u001B[?25h\u001B[1A\u001B[1A\u001B[0G\u001B[?25l[+] Running 0/1\n",
      " ⠋ Container milvus-standalone  Stopping                                   \u001B[34m2.1s \u001B[0m\n",
      "\u001B[?25h\u001B[1A\u001B[1A\u001B[0G\u001B[?25l[+] Running 0/1\n",
      " ⠙ Container milvus-standalone  Stopping                                   \u001B[34m2.2s \u001B[0m\n",
      "\u001B[?25h\u001B[1A\u001B[1A\u001B[0G\u001B[?25l[+] Running 0/1\n",
      " ⠹ Container milvus-standalone  Stopping                                   \u001B[34m2.3s \u001B[0m\n",
      "\u001B[?25h\u001B[1A\u001B[1A\u001B[0G\u001B[?25l[+] Running 0/1\n",
      " ⠸ Container milvus-standalone  Stopping                                   \u001B[34m2.4s \u001B[0m\n",
      "\u001B[?25h\u001B[1A\u001B[1A\u001B[0G\u001B[?25l[+] Running 0/1\n",
      " ⠼ Container milvus-standalone  Stopping                                   \u001B[34m2.5s \u001B[0m\n",
      "\u001B[?25h\u001B[1A\u001B[1A\u001B[0G\u001B[?25l[+] Running 0/1\n",
      " ⠴ Container milvus-standalone  Stopping                                   \u001B[34m2.6s \u001B[0m\n",
      "\u001B[?25h\u001B[1A\u001B[1A\u001B[0G\u001B[?25l[+] Running 0/1\n",
      " ⠦ Container milvus-standalone  Stopping                                   \u001B[34m2.7s \u001B[0m\n",
      "\u001B[?25h\u001B[1A\u001B[1A\u001B[0G\u001B[?25l[+] Running 0/1\n",
      " ⠧ Container milvus-standalone  Stopping                                   \u001B[34m2.8s \u001B[0m\n",
      "\u001B[?25h\u001B[1A\u001B[1A\u001B[0G\u001B[?25l[+] Running 0/1\n",
      " ⠇ Container milvus-standalone  Stopping                                   \u001B[34m2.9s \u001B[0m\n",
      "\u001B[?25h\u001B[1A\u001B[1A\u001B[0G\u001B[?25l[+] Running 0/1\n",
      " ⠏ Container milvus-standalone  Stopping                                   \u001B[34m3.0s \u001B[0m\n",
      "\u001B[?25h\u001B[1A\u001B[1A\u001B[0G\u001B[?25l[+] Running 0/1\n",
      " ⠋ Container milvus-standalone  Stopping                                   \u001B[34m3.1s \u001B[0m\n",
      "\u001B[?25h\u001B[1A\u001B[1A\u001B[0G\u001B[?25l[+] Running 0/1\n",
      " ⠙ Container milvus-standalone  Stopping                                   \u001B[34m3.2s \u001B[0m\n",
      "\u001B[?25h\u001B[1A\u001B[1A\u001B[0G\u001B[?25l[+] Running 0/1\n",
      " ⠹ Container milvus-standalone  Stopping                                   \u001B[34m3.3s \u001B[0m\n",
      "\u001B[?25h\u001B[1A\u001B[1A\u001B[0G\u001B[?25l[+] Running 0/1\n",
      " ⠸ Container milvus-standalone  Stopping                                   \u001B[34m3.4s \u001B[0m\n",
      "\u001B[?25h\u001B[1A\u001B[1A\u001B[0G\u001B[?25l[+] Running 0/1\n",
      " ⠼ Container milvus-standalone  Stopping                                   \u001B[34m3.5s \u001B[0m\n",
      "\u001B[?25h\u001B[1A\u001B[1A\u001B[0G\u001B[?25l[+] Running 0/1\n",
      " ⠴ Container milvus-standalone  Stopping                                   \u001B[34m3.6s \u001B[0m\n",
      "\u001B[?25h\u001B[1A\u001B[1A\u001B[0G\u001B[?25l[+] Running 0/1\n",
      " ⠦ Container milvus-standalone  Stopping                                   \u001B[34m3.7s \u001B[0m\n",
      "\u001B[?25h\u001B[1A\u001B[1A\u001B[0G\u001B[?25l[+] Running 0/1\n",
      " ⠧ Container milvus-standalone  Stopping                                   \u001B[34m3.8s \u001B[0m\n",
      "\u001B[?25h\u001B[1A\u001B[1A\u001B[0G\u001B[?25l[+] Running 0/1\n",
      " ⠇ Container milvus-standalone  Stopping                                   \u001B[34m3.9s \u001B[0m\n",
      "\u001B[?25h\u001B[1A\u001B[1A\u001B[0G\u001B[?25l[+] Running 0/1\n",
      " ⠏ Container milvus-standalone  Stopping                                   \u001B[34m4.0s \u001B[0m\n",
      "\u001B[?25h\u001B[1A\u001B[1A\u001B[0G\u001B[?25l[+] Running 0/1\n",
      " ⠋ Container milvus-standalone  Stopping                                   \u001B[34m4.1s \u001B[0m\n",
      "\u001B[?25h\u001B[1A\u001B[1A\u001B[0G\u001B[?25l[+] Running 0/1\n",
      " ⠙ Container milvus-standalone  Stopping                                   \u001B[34m4.2s \u001B[0m\n",
      "\u001B[?25h\u001B[1A\u001B[1A\u001B[0G\u001B[?25l[+] Running 0/1\n",
      " ⠹ Container milvus-standalone  Stopping                                   \u001B[34m4.3s \u001B[0m\n",
      "\u001B[?25h\u001B[1A\u001B[1A\u001B[0G\u001B[?25l[+] Running 0/1\n",
      " ⠸ Container milvus-standalone  Stopping                                   \u001B[34m4.4s \u001B[0m\n",
      "\u001B[?25h\u001B[1A\u001B[1A\u001B[0G\u001B[?25l[+] Running 0/1\n",
      " ⠼ Container milvus-standalone  Stopping                                   \u001B[34m4.5s \u001B[0m\n",
      "\u001B[?25h\u001B[1A\u001B[1A\u001B[0G\u001B[?25l[+] Running 0/1\n",
      " ⠴ Container milvus-standalone  Stopping                                   \u001B[34m4.6s \u001B[0m\n",
      "\u001B[?25h\u001B[1A\u001B[1A\u001B[0G\u001B[?25l[+] Running 0/1\n",
      " ⠦ Container milvus-standalone  Stopping                                   \u001B[34m4.7s \u001B[0m\n",
      "\u001B[?25h\u001B[1A\u001B[1A\u001B[0G\u001B[?25l[+] Running 0/1\n",
      " ⠧ Container milvus-standalone  Stopping                                   \u001B[34m4.8s \u001B[0m\n",
      "\u001B[?25h\u001B[1A\u001B[1A\u001B[0G\u001B[?25l[+] Running 0/1\n",
      " ⠇ Container milvus-standalone  Stopping                                   \u001B[34m4.9s \u001B[0m\n",
      "\u001B[?25h\u001B[1A\u001B[1A\u001B[0G\u001B[?25l[+] Running 0/1\n",
      " ⠏ Container milvus-standalone  Stopping                                   \u001B[34m5.0s \u001B[0m\n",
      "\u001B[?25h\u001B[1A\u001B[1A\u001B[0G\u001B[?25l[+] Running 0/1\n",
      " ⠋ Container milvus-standalone  Stopping                                   \u001B[34m5.1s \u001B[0m\n",
      "\u001B[?25h\u001B[1A\u001B[1A\u001B[0G\u001B[?25l[+] Running 0/1\n",
      " ⠙ Container milvus-standalone  Stopping                                   \u001B[34m5.2s \u001B[0m\n",
      "\u001B[?25h\u001B[1A\u001B[1A\u001B[0G\u001B[?25l[+] Running 0/1\n",
      " ⠹ Container milvus-standalone  Stopping                                   \u001B[34m5.3s \u001B[0m\n",
      "\u001B[?25h\u001B[1A\u001B[1A\u001B[0G\u001B[?25l[+] Running 0/1\n",
      " ⠸ Container milvus-standalone  Stopping                                   \u001B[34m5.4s \u001B[0m\n",
      "\u001B[?25h\u001B[1A\u001B[1A\u001B[0G\u001B[?25l[+] Running 0/1\n",
      " ⠼ Container milvus-standalone  Stopping                                   \u001B[34m5.5s \u001B[0m\n",
      "\u001B[?25h\u001B[1A\u001B[1A\u001B[0G\u001B[?25l[+] Running 0/1\n",
      " ⠴ Container milvus-standalone  Stopping                                   \u001B[34m5.6s \u001B[0m\n",
      "\u001B[?25h\u001B[1A\u001B[1A\u001B[0G\u001B[?25l[+] Running 0/1\n",
      " ⠦ Container milvus-standalone  Stopping                                   \u001B[34m5.7s \u001B[0m\n",
      "\u001B[?25h\u001B[1A\u001B[1A\u001B[0G\u001B[?25l[+] Running 0/1\n",
      " ⠧ Container milvus-standalone  Stopping                                   \u001B[34m5.8s \u001B[0m\n",
      "\u001B[?25h\u001B[1A\u001B[1A\u001B[0G\u001B[?25l[+] Running 0/1\n",
      " ⠇ Container milvus-standalone  Stopping                                   \u001B[34m5.9s \u001B[0m\n",
      "\u001B[?25h\u001B[1A\u001B[1A\u001B[0G\u001B[?25l[+] Running 0/1\n",
      " ⠏ Container milvus-standalone  Stopping                                   \u001B[34m6.0s \u001B[0m\n",
      "\u001B[?25h\u001B[1A\u001B[1A\u001B[0G\u001B[?25l[+] Running 0/1\n",
      " ⠋ Container milvus-standalone  Stopping                                   \u001B[34m6.1s \u001B[0m\n",
      "\u001B[?25h\u001B[1A\u001B[1A\u001B[0G\u001B[?25l[+] Running 0/1\n",
      " ⠙ Container milvus-standalone  Stopping                                   \u001B[34m6.2s \u001B[0m\n",
      "\u001B[?25h\u001B[1A\u001B[1A\u001B[0G\u001B[?25l[+] Running 0/1\n",
      " ⠹ Container milvus-standalone  Stopping                                   \u001B[34m6.3s \u001B[0m\n",
      "\u001B[?25h\u001B[1A\u001B[1A\u001B[0G\u001B[?25l[+] Running 0/1\n",
      " ⠸ Container milvus-standalone  Stopping                                   \u001B[34m6.4s \u001B[0m\n",
      "\u001B[?25h\u001B[1A\u001B[1A\u001B[0G\u001B[?25l[+] Running 0/1\n",
      " ⠼ Container milvus-standalone  Stopping                                   \u001B[34m6.5s \u001B[0m\n",
      "\u001B[?25h\u001B[1A\u001B[1A\u001B[0G\u001B[?25l[+] Running 0/1\n",
      " ⠴ Container milvus-standalone  Stopping                                   \u001B[34m6.6s \u001B[0m\n",
      "\u001B[?25h\u001B[1A\u001B[1A\u001B[0G\u001B[?25l[+] Running 0/1\n",
      " ⠦ Container milvus-standalone  Stopping                                   \u001B[34m6.7s \u001B[0m\n",
      "\u001B[?25h\u001B[1A\u001B[1A\u001B[0G\u001B[?25l[+] Running 0/1\n",
      " ⠧ Container milvus-standalone  Stopping                                   \u001B[34m6.8s \u001B[0m\n",
      "\u001B[?25h\u001B[1A\u001B[1A\u001B[0G\u001B[?25l[+] Running 0/1\n",
      " ⠇ Container milvus-standalone  Stopping                                   \u001B[34m6.9s \u001B[0m\n",
      "\u001B[?25h\u001B[1A\u001B[1A\u001B[0G\u001B[?25l[+] Running 0/1\n",
      " ⠏ Container milvus-standalone  Stopping                                   \u001B[34m7.0s \u001B[0m\n",
      "\u001B[?25h\u001B[1A\u001B[1A\u001B[0G\u001B[?25l[+] Running 0/1\n",
      " ⠋ Container milvus-standalone  Stopping                                   \u001B[34m7.1s \u001B[0m\n",
      "\u001B[?25h\u001B[1A\u001B[1A\u001B[0G\u001B[?25l[+] Running 0/1\n",
      " ⠙ Container milvus-standalone  Stopping                                   \u001B[34m7.2s \u001B[0m\n",
      "\u001B[?25h\u001B[1A\u001B[1A\u001B[0G\u001B[?25l[+] Running 0/1\n",
      " ⠹ Container milvus-standalone  Stopping                                   \u001B[34m7.3s \u001B[0m\n",
      "\u001B[?25h\u001B[1A\u001B[1A\u001B[0G\u001B[?25l[+] Running 0/1\n",
      " ⠸ Container milvus-standalone  Stopping                                   \u001B[34m7.4s \u001B[0m\n",
      "\u001B[?25h\u001B[1A\u001B[1A\u001B[0G\u001B[?25l[+] Running 0/1\n",
      " ⠼ Container milvus-standalone  Stopping                                   \u001B[34m7.5s \u001B[0m\n",
      "\u001B[?25h\u001B[1A\u001B[1A\u001B[0G\u001B[?25l[+] Running 0/1\n",
      " ⠴ Container milvus-standalone  Stopping                                   \u001B[34m7.6s \u001B[0m\n",
      "\u001B[?25h\u001B[1A\u001B[1A\u001B[0G\u001B[?25l[+] Running 0/1\n",
      " ⠦ Container milvus-standalone  Stopping                                   \u001B[34m7.7s \u001B[0m\n",
      "\u001B[?25h\u001B[1A\u001B[1A\u001B[0G\u001B[?25l[+] Running 0/1\n",
      " ⠧ Container milvus-standalone  Stopping                                   \u001B[34m7.8s \u001B[0m\n",
      "\u001B[?25h\u001B[1A\u001B[1A\u001B[0G\u001B[?25l[+] Running 0/1\n",
      " ⠇ Container milvus-standalone  Stopping                                   \u001B[34m7.9s \u001B[0m\n",
      "\u001B[?25h\u001B[1A\u001B[1A\u001B[0G\u001B[?25l[+] Running 0/1\n",
      " ⠏ Container milvus-standalone  Stopping                                   \u001B[34m8.0s \u001B[0m\n",
      "\u001B[?25h\u001B[1A\u001B[1A\u001B[0G\u001B[?25l[+] Running 0/1\n",
      " ⠋ Container milvus-standalone  Stopping                                   \u001B[34m8.1s \u001B[0m\n",
      "\u001B[?25h\u001B[1A\u001B[1A\u001B[0G\u001B[?25l[+] Running 0/1\n",
      " ⠙ Container milvus-standalone  Stopping                                   \u001B[34m8.2s \u001B[0m\n",
      "\u001B[?25h\u001B[1A\u001B[1A\u001B[0G\u001B[?25l[+] Running 0/1\n",
      " ⠹ Container milvus-standalone  Stopping                                   \u001B[34m8.3s \u001B[0m\n",
      "\u001B[?25h\u001B[1A\u001B[1A\u001B[0G\u001B[?25l[+] Running 0/1\n",
      " ⠸ Container milvus-standalone  Stopping                                   \u001B[34m8.4s \u001B[0m\n",
      "\u001B[?25h\u001B[1A\u001B[1A\u001B[0G\u001B[?25l[+] Running 0/1\n",
      " ⠼ Container milvus-standalone  Stopping                                   \u001B[34m8.5s \u001B[0m\n",
      "\u001B[?25h\u001B[1A\u001B[1A\u001B[0G\u001B[?25l[+] Running 0/1\n",
      " ⠴ Container milvus-standalone  Stopping                                   \u001B[34m8.6s \u001B[0m\n",
      "\u001B[?25h\u001B[1A\u001B[1A\u001B[0G\u001B[?25l[+] Running 0/1\n",
      " ⠦ Container milvus-standalone  Stopping                                   \u001B[34m8.7s \u001B[0m\n",
      "\u001B[?25h\u001B[1A\u001B[1A\u001B[0G\u001B[?25l[+] Running 0/1\n",
      " ⠧ Container milvus-standalone  Stopping                                   \u001B[34m8.8s \u001B[0m\n",
      "\u001B[?25h\u001B[1A\u001B[1A\u001B[0G\u001B[?25l[+] Running 0/1\n",
      " ⠇ Container milvus-standalone  Stopping                                   \u001B[34m8.9s \u001B[0m\n",
      "\u001B[?25h\u001B[1A\u001B[1A\u001B[0G\u001B[?25l[+] Running 0/1\n",
      " ⠏ Container milvus-standalone  Stopping                                   \u001B[34m9.0s \u001B[0m\n",
      "\u001B[?25h\u001B[1A\u001B[1A\u001B[0G\u001B[?25l[+] Running 0/1\n",
      " ⠋ Container milvus-standalone  Stopping                                   \u001B[34m9.1s \u001B[0m\n",
      "\u001B[?25h\u001B[1A\u001B[1A\u001B[0G\u001B[?25l[+] Running 0/1\n",
      " ⠙ Container milvus-standalone  Stopping                                   \u001B[34m9.2s \u001B[0m\n",
      "\u001B[?25h\u001B[1A\u001B[1A\u001B[0G\u001B[?25l[+] Running 0/1\n",
      " ⠹ Container milvus-standalone  Stopping                                   \u001B[34m9.3s \u001B[0m\n",
      "\u001B[?25h\u001B[1A\u001B[1A\u001B[0G\u001B[?25l[+] Running 0/1\n",
      " ⠸ Container milvus-standalone  Stopping                                   \u001B[34m9.4s \u001B[0m\n",
      "\u001B[?25h\u001B[1A\u001B[1A\u001B[0G\u001B[?25l[+] Running 0/1\n",
      " ⠼ Container milvus-standalone  Stopping                                   \u001B[34m9.5s \u001B[0m\n",
      "\u001B[?25h\u001B[1A\u001B[1A\u001B[0G\u001B[?25l[+] Running 0/1\n",
      " ⠴ Container milvus-standalone  Stopping                                   \u001B[34m9.6s \u001B[0m\n",
      "\u001B[?25h\u001B[1A\u001B[1A\u001B[0G\u001B[?25l[+] Running 0/1\n",
      " ⠦ Container milvus-standalone  Stopping                                   \u001B[34m9.7s \u001B[0m\n",
      "\u001B[?25h\u001B[1A\u001B[1A\u001B[0G\u001B[?25l[+] Running 0/1\n",
      " ⠧ Container milvus-standalone  Stopping                                   \u001B[34m9.8s \u001B[0m\n",
      "\u001B[?25h\u001B[1A\u001B[1A\u001B[0G\u001B[?25l[+] Running 0/1\n",
      " ⠇ Container milvus-standalone  Stopping                                   \u001B[34m9.9s \u001B[0m\n",
      "\u001B[?25h\u001B[1A\u001B[1A\u001B[0G\u001B[?25l[+] Running 0/1\n",
      " ⠏ Container milvus-standalone  Stopping                                  \u001B[34m10.0s \u001B[0m\n",
      "\u001B[?25h\u001B[1A\u001B[1A\u001B[0G\u001B[?25l[+] Running 0/1\n",
      " ⠋ Container milvus-standalone  Stopping                                  \u001B[34m10.1s \u001B[0m\n",
      "\u001B[?25h\u001B[1A\u001B[1A\u001B[0G\u001B[?25l[+] Running 0/1\n",
      " ⠙ Container milvus-standalone  Stopping                                  \u001B[34m10.2s \u001B[0m\n",
      "\u001B[?25h\u001B[1A\u001B[1A\u001B[0G\u001B[?25l\u001B[34m[+] Running 1/1\u001B[0m\n",
      " \u001B[32m✔\u001B[0m Container milvus-standalone  \u001B[32mRemoved\u001B[0m                                   \u001B[34m10.3s \u001B[0m\n",
      " ⠋ Container milvus-minio       Stopping                                   \u001B[34m0.0s \u001B[0m\n",
      " ⠋ Container milvus-etcd        Stopping                                   \u001B[34m0.0s \u001B[0m\n",
      "\u001B[?25h\u001B[1A\u001B[1A\u001B[1A\u001B[1A\u001B[0G\u001B[?25l[+] Running 1/3\n",
      " \u001B[32m✔\u001B[0m Container milvus-standalone  \u001B[32mRemoved\u001B[0m                                   \u001B[34m10.3s \u001B[0m\n",
      " ⠙ Container milvus-minio       Stopping                                   \u001B[34m0.1s \u001B[0m\n",
      " ⠙ Container milvus-etcd        Stopping                                   \u001B[34m0.1s \u001B[0m\n",
      "\u001B[?25h\u001B[1A\u001B[1A\u001B[1A\u001B[1A\u001B[0G\u001B[?25l[+] Running 1/3\n",
      " \u001B[32m✔\u001B[0m Container milvus-standalone  \u001B[32mRemoved\u001B[0m                                   \u001B[34m10.3s \u001B[0m\n",
      " ⠹ Container milvus-minio       Stopping                                   \u001B[34m0.2s \u001B[0m\n",
      " ⠹ Container milvus-etcd        Stopping                                   \u001B[34m0.2s \u001B[0m\n",
      "\u001B[?25h\u001B[1A\u001B[1A\u001B[1A\u001B[1A\u001B[0G\u001B[?25l[+] Running 2/3\n",
      " \u001B[32m✔\u001B[0m Container milvus-standalone  \u001B[32mRemoved\u001B[0m                                   \u001B[34m10.3s \u001B[0m\n",
      " ⠸ Container milvus-minio       Stopping                                   \u001B[34m0.3s \u001B[0m\n",
      " \u001B[32m✔\u001B[0m Container milvus-etcd        \u001B[32mRemoved\u001B[0m                                    \u001B[34m0.3s \u001B[0m\n",
      "\u001B[?25h\u001B[1A\u001B[1A\u001B[1A\u001B[1A\u001B[0G\u001B[?25l[+] Running 2/3\n",
      " \u001B[32m✔\u001B[0m Container milvus-standalone  \u001B[32mRemoved\u001B[0m                                   \u001B[34m10.3s \u001B[0m\n",
      " ⠼ Container milvus-minio       Stopping                                   \u001B[34m0.4s \u001B[0m\n",
      " \u001B[32m✔\u001B[0m Container milvus-etcd        \u001B[32mRemoved\u001B[0m                                    \u001B[34m0.3s \u001B[0m\n",
      "\u001B[?25h\u001B[1A\u001B[1A\u001B[1A\u001B[1A\u001B[0G\u001B[?25l[+] Running 2/3\n",
      " \u001B[32m✔\u001B[0m Container milvus-standalone  \u001B[32mRemoved\u001B[0m                                   \u001B[34m10.3s \u001B[0m\n",
      " ⠴ Container milvus-minio       Stopping                                   \u001B[34m0.5s \u001B[0m\n",
      " \u001B[32m✔\u001B[0m Container milvus-etcd        \u001B[32mRemoved\u001B[0m                                    \u001B[34m0.3s \u001B[0m\n",
      "\u001B[?25h\u001B[1A\u001B[1A\u001B[1A\u001B[1A\u001B[0G\u001B[?25l[+] Running 2/3\n",
      " \u001B[32m✔\u001B[0m Container milvus-standalone  \u001B[32mRemoved\u001B[0m                                   \u001B[34m10.3s \u001B[0m\n",
      " ⠦ Container milvus-minio       Stopping                                   \u001B[34m0.6s \u001B[0m\n",
      " \u001B[32m✔\u001B[0m Container milvus-etcd        \u001B[32mRemoved\u001B[0m                                    \u001B[34m0.3s \u001B[0m\n",
      "\u001B[?25h\u001B[1A\u001B[1A\u001B[1A\u001B[1A\u001B[0G\u001B[?25l[+] Running 2/3\n",
      " \u001B[32m✔\u001B[0m Container milvus-standalone  \u001B[32mRemoved\u001B[0m                                   \u001B[34m10.3s \u001B[0m\n",
      " ⠿ Container milvus-minio       Removing                                   \u001B[34m0.7s \u001B[0m\n",
      " \u001B[32m✔\u001B[0m Container milvus-etcd        \u001B[32mRemoved\u001B[0m                                    \u001B[34m0.3s \u001B[0m\n",
      "\u001B[?25h\u001B[1A\u001B[1A\u001B[1A\u001B[1A\u001B[0G\u001B[?25l\u001B[34m[+] Running 3/3\u001B[0m\n",
      " \u001B[32m✔\u001B[0m Container milvus-standalone  \u001B[32mRemoved\u001B[0m                                   \u001B[34m10.3s \u001B[0m\n",
      " \u001B[32m✔\u001B[0m Container milvus-minio       \u001B[32mRemoved\u001B[0m                                    \u001B[34m0.7s \u001B[0m\n",
      " \u001B[32m✔\u001B[0m Container milvus-etcd        \u001B[32mRemoved\u001B[0m                                    \u001B[34m0.3s \u001B[0m\n",
      " ⠋ Network milvus               Removing                                   \u001B[34m0.1s \u001B[0m\n",
      "\u001B[?25h\u001B[1A\u001B[1A\u001B[1A\u001B[1A\u001B[1A\u001B[0G\u001B[?25l\u001B[34m[+] Running 4/4\u001B[0m\n",
      " \u001B[32m✔\u001B[0m Container milvus-standalone  \u001B[32mRemoved\u001B[0m                                   \u001B[34m10.3s \u001B[0m\n",
      " \u001B[32m✔\u001B[0m Container milvus-minio       \u001B[32mRemoved\u001B[0m                                    \u001B[34m0.7s \u001B[0m\n",
      " \u001B[32m✔\u001B[0m Container milvus-etcd        \u001B[32mRemoved\u001B[0m                                    \u001B[34m0.3s \u001B[0m\n",
      " \u001B[32m✔\u001B[0m Network milvus               \u001B[32mRemoved\u001B[0m                                    \u001B[34m0.1s \u001B[0m\n",
      "\u001B[?25h"
     ]
    }
   ],
   "source": [
    "%cd ./milvusDocker\n",
    "!docker compose down"
   ]
  },
  {
   "cell_type": "code",
   "execution_count": 25,
   "id": "31e6a349-e3ef-466f-b302-9c3322b3318b",
   "metadata": {},
   "outputs": [],
   "source": [
    "# remove used database if necessary\n",
    "!rm -rf volumes/"
   ]
  },
  {
   "cell_type": "code",
   "execution_count": null,
   "id": "09dd7a71-cc40-4d47-b003-24f711b3ca23",
   "metadata": {},
   "outputs": [],
   "source": []
  }
 ],
 "metadata": {
  "kernelspec": {
   "display_name": "Python 3 (ipykernel)",
   "language": "python",
   "name": "python3"
  },
  "language_info": {
   "codemirror_mode": {
    "name": "ipython",
    "version": 3
   },
   "file_extension": ".py",
   "mimetype": "text/x-python",
   "name": "python",
   "nbconvert_exporter": "python",
   "pygments_lexer": "ipython3",
   "version": "3.8.16"
  }
 },
 "nbformat": 4,
 "nbformat_minor": 5
}
